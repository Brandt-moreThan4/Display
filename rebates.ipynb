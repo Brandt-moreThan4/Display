{
 "cells": [
  {
   "cell_type": "markdown",
   "metadata": {},
   "source": []
  },
  {
   "cell_type": "markdown",
   "metadata": {},
   "source": [
    "$ obj = \\frac{1}{n} \\sum_{i=1}^n (\\hat{y}_i - y_i)^2 $\n",
    "\n",
    "$ \\frac{\\partial obj}{\\partial \\beta_0} = \\frac{1}{n} \\sum_{i=1}^n 2(\\hat{y}_i - y_i)$\n",
    "\n"
   ]
  },
  {
   "cell_type": "markdown",
   "metadata": {},
   "source": [
    "$$ \\max_{q} \\frac{1}{n} \\sum_{i=1}^n (p*D_i - q*c-g(D_i-q)^+  -t(q-D_i)^+ ) $$"
   ]
  },
  {
   "cell_type": "markdown",
   "metadata": {},
   "source": [
    "### Simplified Model:\n",
    "<hr>\n",
    "\n",
    "Regress sales on the amount of rebate dollars spent.\n",
    "\n",
    "$$ Sales = \\beta_0 + RebateDollarsSpent *\\beta_1 $$\n",
    "\n",
    "We can then interpret $\\beta_1$ as the marginal dollar increase in sales for every dollar invested in rebate incentives. So $\\beta_1 > 1$ is good because a dollar invested in rebates generates more than an additional dolar of sales and $\\beta_1 < 1$ is bad because the rebates are not even fully paying for themselves.   \n",
    "\n",
    "$$ ROI = (\\beta_1 - 1)/100 $$\n"
   ]
  },
  {
   "cell_type": "markdown",
   "metadata": {},
   "source": [
    "### More Complex Models:\n",
    "\n",
    "Now we can try to add more complicated models with more independent variables to control for other factors. We can also add in interaction terms and nonlinear terms.\n",
    "\n",
    "One Example:\n",
    "\n",
    "$$ Sales = \\beta_0 + RebateDollarsSpent *\\beta_1 + Region_1 * \\beta_2 + Region_2 * \\beta_3 + RebateDollarsSpent * Region_1 * \\beta_4 \\\\ + RebateDollarsSpent * Region_2 * \\beta_5 $$\n",
    "\n",
    "Where the regions are indicator variables having the value of 1 or 0.\n",
    "\n",
    "\n",
    "Marginal increase of sales for a given increase in rebate investment would be:\n",
    "\n",
    "$$ MarginalSalesIncrease = \\beta_1 + Region_1*\\beta_4 + Region_2*\\beta_5 $$\n",
    "\n",
    "Meaning the ROI is now:\n",
    "\n",
    "$$ ROI = (\\beta_1 + Region_1*\\beta_4 + Region_2*\\beta_5 - 1)/100 $$\n",
    "\n",
    "\n",
    "Another Example:\n",
    "\n",
    "$$ Sales = \\beta_0 + RebateDollarsSpent *\\beta_1 + RebateDollarsSpent^2 *\\beta_2  $$\n",
    "\n",
    "Then:\n",
    "\n",
    "$$ ROI = \\beta_1 + 2 * RebateDollarsSpent * \\beta_2 $$"
   ]
  }
 ],
 "metadata": {
  "kernelspec": {
   "display_name": "Python 3",
   "language": "python",
   "name": "python3"
  },
  "language_info": {
   "codemirror_mode": {
    "name": "ipython",
    "version": 3
   },
   "file_extension": ".py",
   "mimetype": "text/x-python",
   "name": "python",
   "nbconvert_exporter": "python",
   "pygments_lexer": "ipython3",
   "version": "3.9.5"
  }
 },
 "nbformat": 4,
 "nbformat_minor": 2
}
